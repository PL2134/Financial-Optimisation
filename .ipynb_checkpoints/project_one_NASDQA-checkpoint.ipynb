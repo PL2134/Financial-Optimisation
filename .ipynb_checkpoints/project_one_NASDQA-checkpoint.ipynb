{
 "cells": [
  {
   "cell_type": "markdown",
   "id": "73d74cd2-b54b-4607-90bc-83c54a0fd8a7",
   "metadata": {},
   "source": [
    "## Import CSV Files"
   ]
  },
  {
   "cell_type": "code",
   "execution_count": 7,
   "id": "1fc09b76-a5cc-4a1e-ac2c-818b16320c81",
   "metadata": {},
   "outputs": [],
   "source": [
    "# Import the pandas and pathlib libraries\n",
    "import os\n",
    "import requests\n",
    "import pandas as pd\n",
    "from dotenv import load_dotenv\n",
    "import hvplot.pandas\n",
    "from pathlib import Path\n",
    "import alpaca_trade_api as tradeapi\n",
    "from MCForecastTools import MCSimulation\n",
    "import seaborn as sns\n",
    "import numpy as np\n",
    "import nasdaqdatalink\n",
    "\n",
    "%matplotlib inline"
   ]
  },
  {
   "cell_type": "code",
   "execution_count": 8,
   "id": "6425c371-7d9c-40fa-98f2-696b2c268311",
   "metadata": {},
   "outputs": [
    {
     "data": {
      "text/plain": [
       "True"
      ]
     },
     "execution_count": 8,
     "metadata": {},
     "output_type": "execute_result"
    }
   ],
   "source": [
    "# Load .env environment variables\n",
    "load_dotenv()"
   ]
  },
  {
   "cell_type": "code",
   "execution_count": 9,
   "id": "c1ff8dca-ce94-4abe-b223-d2bd3044de64",
   "metadata": {},
   "outputs": [],
   "source": [
    "# Set NASDAQ API key\n",
    "api_key = os.getenv(\"NASDAQ_API_KEY\")"
   ]
  },
  {
   "cell_type": "code",
   "execution_count": 10,
   "id": "200928bc-3f5c-4e22-a3ca-5ef236c69370",
   "metadata": {},
   "outputs": [
    {
     "data": {
      "text/plain": [
       "str"
      ]
     },
     "execution_count": 10,
     "metadata": {},
     "output_type": "execute_result"
    }
   ],
   "source": [
    "# Verify that NASDAQ API key was correctly loaded\n",
    "type(api_key)"
   ]
  },
  {
   "cell_type": "code",
   "execution_count": 14,
   "id": "f329dea4-fe26-40c8-834b-9560991dd9eb",
   "metadata": {},
   "outputs": [],
   "source": [
    "# Define the base request URL\n",
    "#request_url = \"https://data.nasdaq.com/api/v3/datasets/FRED/DTB3.csv?api_key=\"\n",
    "dtb3_url = \"https://data.nasdaq.com/api/v3/datasets/FRED/DTB3.csv?column_index=4&start_date=2012-09-30&end_date=2022-09-30&collapse=monthly&transform=rdiff&api_key=\"\n",
    "\n",
    "# Concatenate request_url and api_key. Store as new variable\n",
    "dtb3_url = dtb3_url + api_key"
   ]
  },
  {
   "cell_type": "code",
   "execution_count": 15,
   "id": "b5264c0b-ec9d-4813-9bc0-96a5322cb168",
   "metadata": {},
   "outputs": [],
   "source": [
    "# Execute get request\n",
    "dtb3_data = requests.get(dtb3_url)"
   ]
  },
  {
   "cell_type": "code",
   "execution_count": 18,
   "id": "59f72343-6ccc-456a-bf8f-233ef49252df",
   "metadata": {},
   "outputs": [
    {
     "data": {
      "text/plain": [
       "b'Date,\\n'"
      ]
     },
     "execution_count": 18,
     "metadata": {},
     "output_type": "execute_result"
    }
   ],
   "source": [
    "# Output data\n",
    "dtb3_data.content"
   ]
  },
  {
   "cell_type": "code",
   "execution_count": 26,
   "id": "f9c831aa-3e2a-4ddb-92a9-600fcc481e64",
   "metadata": {},
   "outputs": [],
   "source": [
    "rf_rate_data = nasdaqdatalink.get(\"FRED/DTB3\", start_date=\"2016-09-30\", end_date=\"2022-09-30\")"
   ]
  },
  {
   "cell_type": "code",
   "execution_count": 27,
   "id": "fc50af8f-8ac3-4d73-9f6a-6e7ca6945d04",
   "metadata": {
    "tags": []
   },
   "outputs": [
    {
     "data": {
      "text/html": [
       "<div>\n",
       "<style scoped>\n",
       "    .dataframe tbody tr th:only-of-type {\n",
       "        vertical-align: middle;\n",
       "    }\n",
       "\n",
       "    .dataframe tbody tr th {\n",
       "        vertical-align: top;\n",
       "    }\n",
       "\n",
       "    .dataframe thead th {\n",
       "        text-align: right;\n",
       "    }\n",
       "</style>\n",
       "<table border=\"1\" class=\"dataframe\">\n",
       "  <thead>\n",
       "    <tr style=\"text-align: right;\">\n",
       "      <th></th>\n",
       "      <th>Value</th>\n",
       "    </tr>\n",
       "    <tr>\n",
       "      <th>Date</th>\n",
       "      <th></th>\n",
       "    </tr>\n",
       "  </thead>\n",
       "  <tbody>\n",
       "    <tr>\n",
       "      <th>2016-09-30</th>\n",
       "      <td>0.28</td>\n",
       "    </tr>\n",
       "    <tr>\n",
       "      <th>2016-10-03</th>\n",
       "      <td>0.32</td>\n",
       "    </tr>\n",
       "    <tr>\n",
       "      <th>2016-10-04</th>\n",
       "      <td>0.33</td>\n",
       "    </tr>\n",
       "    <tr>\n",
       "      <th>2016-10-05</th>\n",
       "      <td>0.32</td>\n",
       "    </tr>\n",
       "    <tr>\n",
       "      <th>2016-10-06</th>\n",
       "      <td>0.32</td>\n",
       "    </tr>\n",
       "    <tr>\n",
       "      <th>...</th>\n",
       "      <td>...</td>\n",
       "    </tr>\n",
       "    <tr>\n",
       "      <th>2022-07-11</th>\n",
       "      <td>2.13</td>\n",
       "    </tr>\n",
       "    <tr>\n",
       "      <th>2022-07-12</th>\n",
       "      <td>2.16</td>\n",
       "    </tr>\n",
       "    <tr>\n",
       "      <th>2022-07-13</th>\n",
       "      <td>2.33</td>\n",
       "    </tr>\n",
       "    <tr>\n",
       "      <th>2022-07-14</th>\n",
       "      <td>2.33</td>\n",
       "    </tr>\n",
       "    <tr>\n",
       "      <th>2022-07-15</th>\n",
       "      <td>2.29</td>\n",
       "    </tr>\n",
       "  </tbody>\n",
       "</table>\n",
       "<p>1447 rows × 1 columns</p>\n",
       "</div>"
      ],
      "text/plain": [
       "            Value\n",
       "Date             \n",
       "2016-09-30   0.28\n",
       "2016-10-03   0.32\n",
       "2016-10-04   0.33\n",
       "2016-10-05   0.32\n",
       "2016-10-06   0.32\n",
       "...           ...\n",
       "2022-07-11   2.13\n",
       "2022-07-12   2.16\n",
       "2022-07-13   2.33\n",
       "2022-07-14   2.33\n",
       "2022-07-15   2.29\n",
       "\n",
       "[1447 rows x 1 columns]"
      ]
     },
     "execution_count": 27,
     "metadata": {},
     "output_type": "execute_result"
    }
   ],
   "source": [
    "# Output data\n",
    "rf_rate_data"
   ]
  },
  {
   "cell_type": "code",
   "execution_count": 25,
   "id": "7d2dd736-89cf-4ac6-b5e6-c2ff2e854e5b",
   "metadata": {},
   "outputs": [
    {
     "ename": "NotFoundError",
     "evalue": "(Status 404) (Nasdaq Data Link Error QECx02) You have submitted an incorrect Dataset code. Please check your Dataset codes and try again.",
     "output_type": "error",
     "traceback": [
      "\u001b[1;31m---------------------------------------------------------------------------\u001b[0m",
      "\u001b[1;31mNotFoundError\u001b[0m                             Traceback (most recent call last)",
      "Input \u001b[1;32mIn [25]\u001b[0m, in \u001b[0;36m<cell line: 1>\u001b[1;34m()\u001b[0m\n\u001b[1;32m----> 1\u001b[0m agg_data \u001b[38;5;241m=\u001b[39m \u001b[43mnasdaqdatalink\u001b[49m\u001b[38;5;241;43m.\u001b[39;49m\u001b[43mget\u001b[49m\u001b[43m(\u001b[49m\u001b[38;5;124;43m\"\u001b[39;49m\u001b[38;5;124;43mEOD/AGG\u001b[39;49m\u001b[38;5;124;43m\"\u001b[39;49m\u001b[43m,\u001b[49m\u001b[43m \u001b[49m\u001b[43mstart_date\u001b[49m\u001b[38;5;241;43m=\u001b[39;49m\u001b[38;5;124;43m\"\u001b[39;49m\u001b[38;5;124;43m2012-09-30\u001b[39;49m\u001b[38;5;124;43m\"\u001b[39;49m\u001b[43m,\u001b[49m\u001b[43m \u001b[49m\u001b[43mend_date\u001b[49m\u001b[38;5;241;43m=\u001b[39;49m\u001b[38;5;124;43m\"\u001b[39;49m\u001b[38;5;124;43m2022-09-30\u001b[39;49m\u001b[38;5;124;43m\"\u001b[39;49m\u001b[43m)\u001b[49m\n",
      "File \u001b[1;32m~\\anaconda3\\envs\\alpacaenv\\lib\\site-packages\\nasdaqdatalink\\get.py:48\u001b[0m, in \u001b[0;36mget\u001b[1;34m(dataset, **kwargs)\u001b[0m\n\u001b[0;32m     46\u001b[0m     \u001b[38;5;28;01mif\u001b[39;00m dataset_args[\u001b[38;5;124m'\u001b[39m\u001b[38;5;124mcolumn_index\u001b[39m\u001b[38;5;124m'\u001b[39m] \u001b[38;5;129;01mis\u001b[39;00m \u001b[38;5;129;01mnot\u001b[39;00m \u001b[38;5;28;01mNone\u001b[39;00m:\n\u001b[0;32m     47\u001b[0m         kwargs\u001b[38;5;241m.\u001b[39mupdate({\u001b[38;5;124m'\u001b[39m\u001b[38;5;124mcolumn_index\u001b[39m\u001b[38;5;124m'\u001b[39m: dataset_args[\u001b[38;5;124m'\u001b[39m\u001b[38;5;124mcolumn_index\u001b[39m\u001b[38;5;124m'\u001b[39m]})\n\u001b[1;32m---> 48\u001b[0m     data \u001b[38;5;241m=\u001b[39m \u001b[43mDataset\u001b[49m\u001b[43m(\u001b[49m\u001b[43mdataset_args\u001b[49m\u001b[43m[\u001b[49m\u001b[38;5;124;43m'\u001b[39;49m\u001b[38;5;124;43mcode\u001b[39;49m\u001b[38;5;124;43m'\u001b[39;49m\u001b[43m]\u001b[49m\u001b[43m)\u001b[49m\u001b[38;5;241;43m.\u001b[39;49m\u001b[43mdata\u001b[49m\u001b[43m(\u001b[49m\u001b[43mparams\u001b[49m\u001b[38;5;241;43m=\u001b[39;49m\u001b[43mkwargs\u001b[49m\u001b[43m,\u001b[49m\u001b[43m \u001b[49m\u001b[43mhandle_column_not_found\u001b[49m\u001b[38;5;241;43m=\u001b[39;49m\u001b[38;5;28;43;01mTrue\u001b[39;49;00m\u001b[43m)\u001b[49m\n\u001b[0;32m     49\u001b[0m \u001b[38;5;66;03m# Array\u001b[39;00m\n\u001b[0;32m     50\u001b[0m \u001b[38;5;28;01melif\u001b[39;00m \u001b[38;5;28misinstance\u001b[39m(dataset, \u001b[38;5;28mlist\u001b[39m):\n",
      "File \u001b[1;32m~\\anaconda3\\envs\\alpacaenv\\lib\\site-packages\\nasdaqdatalink\\model\\dataset.py:47\u001b[0m, in \u001b[0;36mDataset.data\u001b[1;34m(self, **options)\u001b[0m\n\u001b[0;32m     45\u001b[0m updated_options \u001b[38;5;241m=\u001b[39m Util\u001b[38;5;241m.\u001b[39mmerge_options(\u001b[38;5;124m'\u001b[39m\u001b[38;5;124mparams\u001b[39m\u001b[38;5;124m'\u001b[39m, params, \u001b[38;5;241m*\u001b[39m\u001b[38;5;241m*\u001b[39moptions)\n\u001b[0;32m     46\u001b[0m \u001b[38;5;28;01mtry\u001b[39;00m:\n\u001b[1;32m---> 47\u001b[0m     \u001b[38;5;28;01mreturn\u001b[39;00m Data\u001b[38;5;241m.\u001b[39mall(\u001b[38;5;241m*\u001b[39m\u001b[38;5;241m*\u001b[39mupdated_options)\n\u001b[0;32m     48\u001b[0m \u001b[38;5;28;01mexcept\u001b[39;00m NotFoundError:\n\u001b[0;32m     49\u001b[0m     \u001b[38;5;28;01mif\u001b[39;00m handle_not_found_error:\n",
      "File \u001b[1;32m~\\anaconda3\\envs\\alpacaenv\\lib\\site-packages\\nasdaqdatalink\\operations\\list.py:15\u001b[0m, in \u001b[0;36mListOperation.all\u001b[1;34m(cls, **options)\u001b[0m\n\u001b[0;32m     13\u001b[0m     options[\u001b[38;5;124m'\u001b[39m\u001b[38;5;124mparams\u001b[39m\u001b[38;5;124m'\u001b[39m] \u001b[38;5;241m=\u001b[39m {}\n\u001b[0;32m     14\u001b[0m path \u001b[38;5;241m=\u001b[39m Util\u001b[38;5;241m.\u001b[39mconstructed_path(\u001b[38;5;28mcls\u001b[39m\u001b[38;5;241m.\u001b[39mlist_path(), options[\u001b[38;5;124m'\u001b[39m\u001b[38;5;124mparams\u001b[39m\u001b[38;5;124m'\u001b[39m])\n\u001b[1;32m---> 15\u001b[0m r \u001b[38;5;241m=\u001b[39m Connection\u001b[38;5;241m.\u001b[39mrequest(\u001b[38;5;124m'\u001b[39m\u001b[38;5;124mget\u001b[39m\u001b[38;5;124m'\u001b[39m, path, \u001b[38;5;241m*\u001b[39m\u001b[38;5;241m*\u001b[39moptions)\n\u001b[0;32m     16\u001b[0m response_data \u001b[38;5;241m=\u001b[39m r\u001b[38;5;241m.\u001b[39mjson()\n\u001b[0;32m     17\u001b[0m Util\u001b[38;5;241m.\u001b[39mconvert_to_dates(response_data)\n",
      "File \u001b[1;32m~\\anaconda3\\envs\\alpacaenv\\lib\\site-packages\\nasdaqdatalink\\connection.py:40\u001b[0m, in \u001b[0;36mConnection.request\u001b[1;34m(cls, http_verb, url, **options)\u001b[0m\n\u001b[0;32m     36\u001b[0m options[\u001b[38;5;124m'\u001b[39m\u001b[38;5;124mheaders\u001b[39m\u001b[38;5;124m'\u001b[39m] \u001b[38;5;241m=\u001b[39m headers\n\u001b[0;32m     38\u001b[0m abs_url \u001b[38;5;241m=\u001b[39m \u001b[38;5;124m'\u001b[39m\u001b[38;5;132;01m%s\u001b[39;00m\u001b[38;5;124m/\u001b[39m\u001b[38;5;132;01m%s\u001b[39;00m\u001b[38;5;124m'\u001b[39m \u001b[38;5;241m%\u001b[39m (ApiConfig\u001b[38;5;241m.\u001b[39mapi_base, url)\n\u001b[1;32m---> 40\u001b[0m \u001b[38;5;28;01mreturn\u001b[39;00m \u001b[38;5;28mcls\u001b[39m\u001b[38;5;241m.\u001b[39mexecute_request(http_verb, abs_url, \u001b[38;5;241m*\u001b[39m\u001b[38;5;241m*\u001b[39moptions)\n",
      "File \u001b[1;32m~\\anaconda3\\envs\\alpacaenv\\lib\\site-packages\\nasdaqdatalink\\connection.py:52\u001b[0m, in \u001b[0;36mConnection.execute_request\u001b[1;34m(cls, http_verb, url, **options)\u001b[0m\n\u001b[0;32m     47\u001b[0m response \u001b[38;5;241m=\u001b[39m session\u001b[38;5;241m.\u001b[39mrequest(method\u001b[38;5;241m=\u001b[39mhttp_verb,\n\u001b[0;32m     48\u001b[0m                            url\u001b[38;5;241m=\u001b[39murl,\n\u001b[0;32m     49\u001b[0m                            verify\u001b[38;5;241m=\u001b[39mApiConfig\u001b[38;5;241m.\u001b[39mverify_ssl,\n\u001b[0;32m     50\u001b[0m                            \u001b[38;5;241m*\u001b[39m\u001b[38;5;241m*\u001b[39moptions)\n\u001b[0;32m     51\u001b[0m \u001b[38;5;28;01mif\u001b[39;00m response\u001b[38;5;241m.\u001b[39mstatus_code \u001b[38;5;241m<\u001b[39m \u001b[38;5;241m200\u001b[39m \u001b[38;5;129;01mor\u001b[39;00m response\u001b[38;5;241m.\u001b[39mstatus_code \u001b[38;5;241m>\u001b[39m\u001b[38;5;241m=\u001b[39m \u001b[38;5;241m300\u001b[39m:\n\u001b[1;32m---> 52\u001b[0m     \u001b[38;5;28;43mcls\u001b[39;49m\u001b[38;5;241;43m.\u001b[39;49m\u001b[43mhandle_api_error\u001b[49m\u001b[43m(\u001b[49m\u001b[43mresponse\u001b[49m\u001b[43m)\u001b[49m\n\u001b[0;32m     53\u001b[0m \u001b[38;5;28;01melse\u001b[39;00m:\n\u001b[0;32m     54\u001b[0m     \u001b[38;5;28;01mreturn\u001b[39;00m response\n",
      "File \u001b[1;32m~\\anaconda3\\envs\\alpacaenv\\lib\\site-packages\\nasdaqdatalink\\connection.py:120\u001b[0m, in \u001b[0;36mConnection.handle_api_error\u001b[1;34m(cls, resp)\u001b[0m\n\u001b[0;32m    109\u001b[0m d_klass \u001b[38;5;241m=\u001b[39m {\n\u001b[0;32m    110\u001b[0m     \u001b[38;5;124m'\u001b[39m\u001b[38;5;124mL\u001b[39m\u001b[38;5;124m'\u001b[39m: LimitExceededError,\n\u001b[0;32m    111\u001b[0m     \u001b[38;5;124m'\u001b[39m\u001b[38;5;124mM\u001b[39m\u001b[38;5;124m'\u001b[39m: InternalServerError,\n\u001b[1;32m   (...)\u001b[0m\n\u001b[0;32m    116\u001b[0m     \u001b[38;5;124m'\u001b[39m\u001b[38;5;124mX\u001b[39m\u001b[38;5;124m'\u001b[39m: ServiceUnavailableError\n\u001b[0;32m    117\u001b[0m }\n\u001b[0;32m    118\u001b[0m klass \u001b[38;5;241m=\u001b[39m d_klass\u001b[38;5;241m.\u001b[39mget(code_letter, DataLinkError)\n\u001b[1;32m--> 120\u001b[0m \u001b[38;5;28;01mraise\u001b[39;00m klass(message, resp\u001b[38;5;241m.\u001b[39mstatus_code, resp\u001b[38;5;241m.\u001b[39mtext, resp\u001b[38;5;241m.\u001b[39mheaders, code)\n",
      "\u001b[1;31mNotFoundError\u001b[0m: (Status 404) (Nasdaq Data Link Error QECx02) You have submitted an incorrect Dataset code. Please check your Dataset codes and try again."
     ]
    }
   ],
   "source": [
    "agg_data = nasdaqdatalink.get(\"EOD/AGG\", start_date=\"2012-09-30\", end_date=\"2022-09-30\")"
   ]
  },
  {
   "cell_type": "code",
   "execution_count": null,
   "id": "cb635a84-9426-423c-88a6-866773dac68d",
   "metadata": {},
   "outputs": [],
   "source": [
    "# Output data\n",
    "agg_data"
   ]
  },
  {
   "cell_type": "code",
   "execution_count": null,
   "id": "ec1f03b9-064a-4674-a5f6-c9a2317fb9db",
   "metadata": {},
   "outputs": [],
   "source": []
  },
  {
   "cell_type": "code",
   "execution_count": null,
   "id": "c2ce6d10-df88-4587-9e36-9e5e5db6a96e",
   "metadata": {},
   "outputs": [],
   "source": []
  },
  {
   "cell_type": "code",
   "execution_count": null,
   "id": "7cc9aa55-eda1-41c9-b4e4-0e610485480a",
   "metadata": {},
   "outputs": [],
   "source": [
    "# Create the Alpaca API object\n",
    "alpaca = tradeapi.REST(\n",
    "    alpaca_api_key,\n",
    "    alpaca_secret_key,\n",
    "    api_version=\"v2\")"
   ]
  },
  {
   "cell_type": "code",
   "execution_count": null,
   "id": "d91a9a73-265d-4649-bdf1-8277e06ee717",
   "metadata": {},
   "outputs": [],
   "source": [
    "# Format start and end dates as ISO format for one year period\n",
    "start = pd.Timestamp(\"2012-09-30\", tz=\"America/New_York\").isoformat()\n",
    "end = pd.Timestamp(\"2022-09-30\", tz=\"America/New_York\").isoformat()"
   ]
  },
  {
   "cell_type": "code",
   "execution_count": null,
   "id": "d1131188-aa34-4c02-95e5-362c8903a2fd",
   "metadata": {},
   "outputs": [],
   "source": [
    "# Set the tickers\n",
    "tickers = [\"AGG\", \"VNQ\", \"US3M:Tradeweb\"]"
   ]
  },
  {
   "cell_type": "code",
   "execution_count": null,
   "id": "0d5fad02-5e4c-4f8b-8d77-f86566050d00",
   "metadata": {},
   "outputs": [],
   "source": [
    "# Set timeframe to one day (\"1Day\") for the Alpaca API\n",
    "timeframe = \"1Day\""
   ]
  },
  {
   "cell_type": "code",
   "execution_count": null,
   "id": "c64d5458-b0ef-4d93-9a24-9a77c0551ca5",
   "metadata": {},
   "outputs": [],
   "source": [
    "# Get current closing prices for FB and TWTR\n",
    "df_portfolio = alpaca.get_bars(\n",
    "    tickers,\n",
    "    timeframe,\n",
    "    start = start,\n",
    "    end = end\n",
    ").df\n",
    "\n",
    "# Display sample data\n",
    "df_portfolio"
   ]
  },
  {
   "cell_type": "code",
   "execution_count": null,
   "id": "0bce65fb-5b65-4006-b24c-7479a944debd",
   "metadata": {},
   "outputs": [],
   "source": []
  },
  {
   "cell_type": "code",
   "execution_count": null,
   "id": "6890aa09-6299-4b5c-a305-0dd9f9ec3b1f",
   "metadata": {},
   "outputs": [],
   "source": []
  },
  {
   "cell_type": "code",
   "execution_count": null,
   "id": "7ca938b2-ecda-4892-b854-158e01bbaa7b",
   "metadata": {},
   "outputs": [],
   "source": [
    "# Use the `dtypes` attribute to list the column data types\n",
    "display(vnq_df.dtypes)\n",
    "display(agg_df.dtypes)"
   ]
  },
  {
   "cell_type": "markdown",
   "id": "744478b8-b820-4967-8967-50ef6426d2f0",
   "metadata": {},
   "source": [
    "## Data Cleaning"
   ]
  },
  {
   "cell_type": "code",
   "execution_count": null,
   "id": "f81975ae-1bbf-42ff-ab22-412103832ea6",
   "metadata": {},
   "outputs": [],
   "source": [
    "# Use the `count` function to view count of non-null values for each column\n",
    "vnq_df.count()"
   ]
  },
  {
   "cell_type": "code",
   "execution_count": null,
   "id": "a32bbcc8-61cd-46e4-a135-adaf4c14f716",
   "metadata": {},
   "outputs": [],
   "source": [
    "agg_df.count()"
   ]
  },
  {
   "cell_type": "code",
   "execution_count": null,
   "id": "a9cf5628-9e41-42f5-8161-b643909b8580",
   "metadata": {},
   "outputs": [],
   "source": [
    "# Checking for null\n",
    "vnq_df.isnull()"
   ]
  },
  {
   "cell_type": "code",
   "execution_count": null,
   "id": "82ef8ada-b878-4ce6-85dd-951808ebc3c6",
   "metadata": {},
   "outputs": [],
   "source": [
    "agg_df.isnull()"
   ]
  },
  {
   "cell_type": "code",
   "execution_count": null,
   "id": "d1b9c903-c624-4890-a79d-2b9cbf2634a4",
   "metadata": {},
   "outputs": [],
   "source": [
    "# Determining number of nulls\n",
    "vnq_df.isnull().sum()"
   ]
  },
  {
   "cell_type": "code",
   "execution_count": null,
   "id": "584416c1-7e8c-4419-b669-e48ff87a57ff",
   "metadata": {},
   "outputs": [],
   "source": [
    "agg_df.isnull().sum()"
   ]
  },
  {
   "cell_type": "markdown",
   "id": "71f6fd7b-3d5f-4af7-a7b5-b2e8c7cd21e1",
   "metadata": {},
   "source": [
    "We do not need to drop nulls, as we have no nulls in our data when we checked in the cells above."
   ]
  },
  {
   "cell_type": "code",
   "execution_count": null,
   "id": "d8e32686-5241-432c-b4dc-233b2eb0c7ff",
   "metadata": {},
   "outputs": [],
   "source": [
    "# Use the `duplicated` function to determine the existance of duplicate rows: True or False\n",
    "vnq_df.duplicated()"
   ]
  },
  {
   "cell_type": "code",
   "execution_count": null,
   "id": "3b631301-d4c1-4b4e-bc87-f935b65738c6",
   "metadata": {},
   "outputs": [],
   "source": [
    "agg_df.duplicated()"
   ]
  },
  {
   "cell_type": "markdown",
   "id": "44f36f22-fc59-4364-ad6b-6b63f158e950",
   "metadata": {},
   "source": [
    "Even though it shows that there are deplicated data in the file, We decided against dropping the duplicates, because the stocks can have the same closing price on different days. Also, we shouldn't have duplicated date, as indices should be unique."
   ]
  },
  {
   "cell_type": "code",
   "execution_count": null,
   "id": "43811a40-cd97-4bce-b729-20740eb5f1d2",
   "metadata": {},
   "outputs": [],
   "source": [
    "# Save modified DataFrame to the Resources folder. Use the `index` parameter set to `False` to exclude saving the index.\n",
    "vnq_df.to_csv(\"./Resources/cleaned_vnq_data.csv\", index=True)\n",
    "agg_df.to_csv(\"./Resources/cleaned_agg_data.csv\", index=True)"
   ]
  },
  {
   "cell_type": "markdown",
   "id": "759e6294-09de-49c2-a93b-86819cf92b81",
   "metadata": {},
   "source": [
    "## Concatenating Dataframes"
   ]
  },
  {
   "cell_type": "code",
   "execution_count": null,
   "id": "ecef4dd4-3ef3-4e35-b7d6-b7812c07e08f",
   "metadata": {},
   "outputs": [],
   "source": [
    "# Join VNQ and AGG full datasets by axis\n",
    "hedge_df=pd.concat([agg_df,vnq_df], axis=\"columns\", join=\"inner\")\n",
    "hedge_df.head()"
   ]
  },
  {
   "cell_type": "code",
   "execution_count": null,
   "id": "c4f3d5a7-c45b-41f1-a852-c4cf9acef7f5",
   "metadata": {},
   "outputs": [],
   "source": [
    "#Rename the columns to AGG and VNQ \n",
    "hedge_df.columns=[\"AGG\", \"VNQ\"]\n",
    "display(hedge_df.head())\n",
    "display(hedge_df.tail())"
   ]
  },
  {
   "cell_type": "code",
   "execution_count": null,
   "id": "bc5f0ae2-67bd-4616-bc1f-4a566aee0f16",
   "metadata": {},
   "outputs": [],
   "source": [
    "hedge_df.to_csv(\"./Resources/cleaned_hedge_data.csv\", index=True)"
   ]
  },
  {
   "cell_type": "code",
   "execution_count": null,
   "id": "75a404ea-b790-4d1f-b16c-eb2b160cf51a",
   "metadata": {},
   "outputs": [],
   "source": [
    "#Convert the daily closing price data into daily return data\n",
    "hedge_daily_return_df = hedge_df.pct_change().dropna()\n",
    "hedge_daily_return_df.head()"
   ]
  },
  {
   "cell_type": "markdown",
   "id": "78b1efeb-a923-4f90-b582-4104bc1f08c0",
   "metadata": {},
   "source": [
    "## Data Analysis"
   ]
  },
  {
   "cell_type": "code",
   "execution_count": null,
   "id": "8e050ea3-d37b-46a4-9d25-d4b3f1038abc",
   "metadata": {},
   "outputs": [],
   "source": [
    "#Import one new library: Plotly.express, SciPy, Ggplot, Altair"
   ]
  },
  {
   "cell_type": "code",
   "execution_count": null,
   "id": "472a70de-7555-4612-b7a6-b80a8f308edc",
   "metadata": {},
   "outputs": [],
   "source": [
    "#Price increase year-on-year: Ven"
   ]
  },
  {
   "cell_type": "code",
   "execution_count": null,
   "id": "cda63b7e-5d07-4c12-b355-50bfe67e080f",
   "metadata": {},
   "outputs": [],
   "source": [
    "# Annualized Mean: \n",
    "hedge_df.groupby(pd.Grouper(freq='12M')).mean()"
   ]
  },
  {
   "cell_type": "code",
   "execution_count": null,
   "id": "ac69cb39-81e9-4643-b82a-ef116d847f23",
   "metadata": {},
   "outputs": [],
   "source": [
    "# Standard deviation (volatility)(Daily and Annualized):\n",
    "hedge_df.groupby(pd.Grouper(freq='12M')).std()"
   ]
  },
  {
   "cell_type": "code",
   "execution_count": null,
   "id": "28315d94-1fa4-45db-bc51-8aff2da276f7",
   "metadata": {},
   "outputs": [],
   "source": [
    "# 20 days Moving Average: Pauline\n",
    "hedge_MA_20_df = hedge_df.rolling(window=20).mean()\n",
    "hedge_MA_20_df.hvplot()"
   ]
  },
  {
   "cell_type": "code",
   "execution_count": null,
   "id": "6256026e-c6b2-48bd-8e81-929c6bfec4c9",
   "metadata": {},
   "outputs": [],
   "source": [
    "# 50 days Moving Average: Pauline\n",
    "hedge_MA_50_df = hedge_df.rolling(window=50).mean()\n",
    "hedge_MA_50_df.hvplot()"
   ]
  },
  {
   "cell_type": "code",
   "execution_count": null,
   "id": "3f092403-d612-40dd-883c-80d75725e954",
   "metadata": {},
   "outputs": [],
   "source": [
    "# 200 days Moving Average: Pauline\n",
    "hedge_MA_200_df = hedge_df.rolling(window=200).mean()\n",
    "hedge_MA_200_df.hvplot()"
   ]
  },
  {
   "cell_type": "code",
   "execution_count": null,
   "id": "2ff841c9-041f-4016-90da-e0de920fe768",
   "metadata": {},
   "outputs": [],
   "source": [
    "#Concatente 20 days, 50 days and 200 days MA for technical analysis\n",
    "hedge_combined_MA_df = pd.concat([hedge_MA_20_df, hedge_MA_50_df, hedge_MA_200_df], axis=\"columns\", join=\"inner\")\n",
    "display(hedge_combined_MA_df.head())\n",
    "display(hedge_combined_MA_df.tail())"
   ]
  },
  {
   "cell_type": "code",
   "execution_count": null,
   "id": "f3826fe4-922e-453b-a3b4-fffac4cc1beb",
   "metadata": {},
   "outputs": [],
   "source": [
    "#Rename the columns to AGG and VNQ with different MAs\n",
    "hedge_combined_MA_df.columns=[\"AGG_MA20\", \"VNQ_MA20\", \"AGG_MA50\", \"VNQ_MA50\", \"AGG_MA200\", \"VNQ_MA200\",]\n",
    "display(hedge_combined_MA_df.head())\n",
    "display(hedge_combined_MA_df.tail())"
   ]
  },
  {
   "cell_type": "code",
   "execution_count": null,
   "id": "d54bd13e-7d75-439c-b5a1-6d6cb43c439d",
   "metadata": {},
   "outputs": [],
   "source": [
    "#Plot 20 days, 50 days and 200 days MAs on the same plot for technical analysis\n",
    "hedge_combined_MA_df.hvplot()"
   ]
  },
  {
   "cell_type": "code",
   "execution_count": null,
   "id": "2eba7e4b-f09a-4d7a-a049-a057012942ae",
   "metadata": {},
   "outputs": [],
   "source": [
    "# Calculate variance of all daily returns of VNQ vs. AGG\n",
    "variance = hedge_df['AGG'].var()\n",
    "variance"
   ]
  },
  {
   "cell_type": "code",
   "execution_count": null,
   "id": "b88ac903-d1bf-4eda-bc9c-5cacf1e5862e",
   "metadata": {},
   "outputs": [],
   "source": [
    "# Calculate covariance of all daily returns of VNQ vs. AGG\n",
    "covariance = hedge_df['VNQ'].cov(hedge_df['AGG'])\n",
    "covariance"
   ]
  },
  {
   "cell_type": "code",
   "execution_count": null,
   "id": "f2e7b20f-d038-40b2-af44-f726493cd873",
   "metadata": {},
   "outputs": [],
   "source": [
    "# Calculate beta of all daily returns of VNQ\n",
    "vnq_beta = covariance / variance\n",
    "vnq_beta"
   ]
  },
  {
   "cell_type": "code",
   "execution_count": null,
   "id": "b91db593-7281-4806-9228-91155f34ce2e",
   "metadata": {},
   "outputs": [],
   "source": [
    "# Calculate 30-day rolling covariance of VNQ vs. AGG and plot the data\n",
    "rolling_covariance = hedge_df['VNQ'].rolling(window=30).cov(hedge_df['AGG'])\n",
    "rolling_covariance.plot(figsize=(20, 10), title='Rolling 30-Day Covariance of VNQ Returns vs. AGG')"
   ]
  },
  {
   "cell_type": "code",
   "execution_count": null,
   "id": "d1231bdc-c864-43a9-842a-b9dd0b2ddb39",
   "metadata": {},
   "outputs": [],
   "source": [
    "# Calculate 30-day rolling variance of VNQ vs. AGG and plot the data\n",
    "rolling_variance = hedge_df['AGG'].rolling(window=30).var()\n",
    "rolling_variance.plot(figsize=(20, 10), title='Rolling 30-Day of AGG')"
   ]
  },
  {
   "cell_type": "code",
   "execution_count": null,
   "id": "6fe89077-6a10-4df9-8de1-115a2d21d21f",
   "metadata": {},
   "outputs": [],
   "source": [
    "# Calculate 30-day rolling beta of VNQ and plot the data\n",
    "rolling_beta = rolling_covariance / rolling_variance\n",
    "rolling_beta.plot(figsize=(20, 10), title='Rolling 30-Day Beta of VNQ')"
   ]
  },
  {
   "cell_type": "code",
   "execution_count": null,
   "id": "fa8fe81e-10db-4c77-9c4f-4ded7f9ecdfd",
   "metadata": {},
   "outputs": [],
   "source": []
  },
  {
   "cell_type": "code",
   "execution_count": null,
   "id": "d6250adb-f245-4908-833b-1212bdf3d961",
   "metadata": {},
   "outputs": [],
   "source": [
    "# Sharpe ratio\n",
    "sharpes_ratios = (hedge_df.mean() * 252) / (hedge_df.std() * np.sqrt(252))"
   ]
  },
  {
   "cell_type": "code",
   "execution_count": null,
   "id": "532e42ea-fbd9-4593-9104-fe9fca1bf2d7",
   "metadata": {},
   "outputs": [],
   "source": [
    "# Monte Carlo price projection: Pauline"
   ]
  },
  {
   "cell_type": "code",
   "execution_count": null,
   "id": "bb07f120-72d0-4bc4-a14f-d6a7f7333b05",
   "metadata": {},
   "outputs": [],
   "source": [
    "# Configuring a Monte Carlo simulation to forecast ten years cumulative returns\n",
    "MC_agg_ten_year = MCSimulation(\n",
    "    portfolio_data = hedge_df,\n",
    "    weights = [1,0],\n",
    "    num_simulation = 500,\n",
    "    num_trading_days = 252*10\n",
    ")"
   ]
  },
  {
   "cell_type": "code",
   "execution_count": null,
   "id": "27b995b2-8ca9-4b5b-9a98-f540214fe3df",
   "metadata": {},
   "outputs": [],
   "source": [
    "# Printing the simulation input data\n",
    "MC_agg_ten_year.portfolio_data.head()"
   ]
  },
  {
   "cell_type": "code",
   "execution_count": null,
   "id": "fb97bd2f-e796-4916-927b-d83f05cb1d3d",
   "metadata": {},
   "outputs": [],
   "source": [
    "# Running a Monte Carlo simulation to forecast five years cumulative returns\n",
    "MC_agg_ten_year.calc_cumulative_return()"
   ]
  },
  {
   "cell_type": "code",
   "execution_count": null,
   "id": "2b8a01e5-df93-42fb-aac0-d7d12e9c8bcd",
   "metadata": {},
   "outputs": [],
   "source": [
    "# Configuring a Monte Carlo simulation to forecast ten years cumulative returns\n",
    "MC_vnq_ten_year = MCSimulation(\n",
    "    portfolio_data = hedge_df,\n",
    "    weights = [1,0],\n",
    "    num_simulation = 500,\n",
    "    num_trading_days = 252*10\n",
    ")"
   ]
  },
  {
   "cell_type": "code",
   "execution_count": null,
   "id": "ff6e7fc1-8964-4794-b9dd-54e530c48cb4",
   "metadata": {},
   "outputs": [],
   "source": [
    "# Printing the simulation input data\n",
    "MC_vnq_ten_year.portfolio_data.head()"
   ]
  },
  {
   "cell_type": "code",
   "execution_count": null,
   "id": "b51f4865-7c3e-468b-99f5-f05ae37557d8",
   "metadata": {},
   "outputs": [],
   "source": [
    "# Running a Monte Carlo simulation to forecast five years cumulative returns\n",
    "MC_vnq_ten_year.calc_cumulative_return()"
   ]
  },
  {
   "cell_type": "code",
   "execution_count": null,
   "id": "faae6fbb-6155-4b0f-adf4-da3ba1cc9bda",
   "metadata": {},
   "outputs": [],
   "source": [
    "# Running a Monte Carlo simulation to forecast five years cumulative returns\n",
    "MC_vnq_ten_year.calc_cumulative_return()"
   ]
  },
  {
   "cell_type": "code",
   "execution_count": null,
   "id": "f207c5c8-7dce-4bab-a952-babb5b316a0b",
   "metadata": {},
   "outputs": [],
   "source": [
    "# Calculate the correlation of closing prices between MSFT and SP500\n",
    "price_correlation = hedge_df.corr()\n",
    "price_correlation"
   ]
  },
  {
   "cell_type": "markdown",
   "id": "150e4c88-7e42-4e0d-9887-2bce744f3b90",
   "metadata": {},
   "source": [
    "## Plot Correlation of Prices"
   ]
  },
  {
   "cell_type": "code",
   "execution_count": null,
   "id": "ba3ba797-8fb4-4426-802e-0152f804288e",
   "metadata": {},
   "outputs": [],
   "source": [
    "# Use the `heatmap` function from the seaborn library to visualize correlations\n",
    "sns.heatmap(price_correlation, vmin=-1, vmax=1)"
   ]
  },
  {
   "cell_type": "code",
   "execution_count": null,
   "id": "305d3275-bcc3-48da-a799-35f326cb8303",
   "metadata": {},
   "outputs": [],
   "source": []
  },
  {
   "cell_type": "code",
   "execution_count": null,
   "id": "6c921ab5-bdab-43e5-acec-f329fd89e732",
   "metadata": {},
   "outputs": [],
   "source": [
    "# Hvplot: 6-8 plots: MA, corrention, bar chart, scatter plot, view \"info is beautiful\""
   ]
  },
  {
   "cell_type": "code",
   "execution_count": null,
   "id": "44df67d9-c581-4c0b-9c9f-a0edc874c7fc",
   "metadata": {},
   "outputs": [],
   "source": []
  },
  {
   "cell_type": "markdown",
   "id": "7232e7f1-ec9a-4eab-bbfe-6a5b839dc9e4",
   "metadata": {},
   "source": [
    "## Data Analysis"
   ]
  },
  {
   "cell_type": "markdown",
   "id": "18bf1f58-ab56-4b82-9218-8f57769e1c88",
   "metadata": {},
   "source": [
    "We chose AGG as a benchmark to represent CPI. We chose VNQ as a benchmark to represent the real estate market. As we can see above, the correlation ...(Sam)"
   ]
  },
  {
   "cell_type": "markdown",
   "id": "28839e1e-d3f5-4f9e-a1eb-8b215da0f9b2",
   "metadata": {},
   "source": [
    "We need to do Monte Carlo because...(Pauline)"
   ]
  },
  {
   "cell_type": "code",
   "execution_count": null,
   "id": "d7ffddc6-abe0-4c34-a8e5-6d8c06ab25b3",
   "metadata": {},
   "outputs": [],
   "source": []
  },
  {
   "cell_type": "code",
   "execution_count": null,
   "id": "483d6d3b-7477-4d37-bf6a-21d65b49eb99",
   "metadata": {},
   "outputs": [],
   "source": []
  },
  {
   "cell_type": "code",
   "execution_count": null,
   "id": "b1f3c9b7-6161-4921-a26c-d4b3e35ad6a4",
   "metadata": {},
   "outputs": [],
   "source": []
  }
 ],
 "metadata": {
  "kernelspec": {
   "display_name": "Python 3 (ipykernel)",
   "language": "python",
   "name": "python3"
  },
  "language_info": {
   "codemirror_mode": {
    "name": "ipython",
    "version": 3
   },
   "file_extension": ".py",
   "mimetype": "text/x-python",
   "name": "python",
   "nbconvert_exporter": "python",
   "pygments_lexer": "ipython3",
   "version": "3.9.12"
  }
 },
 "nbformat": 4,
 "nbformat_minor": 5
}
