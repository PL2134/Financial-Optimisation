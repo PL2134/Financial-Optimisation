{
 "cells": [
  {
   "cell_type": "markdown",
   "id": "73d74cd2-b54b-4607-90bc-83c54a0fd8a7",
   "metadata": {},
   "source": [
    "## Import CSV Files"
   ]
  },
  {
   "cell_type": "code",
   "execution_count": 4,
   "id": "1fc09b76-a5cc-4a1e-ac2c-818b16320c81",
   "metadata": {},
   "outputs": [],
   "source": [
    "# Import the pandas and pathlib libraries\n",
    "import pandas as pd\n",
    "from pathlib import Path"
   ]
  },
  {
   "cell_type": "code",
   "execution_count": 7,
   "id": "ac2bd223-d647-4058-a109-5d617ace89f5",
   "metadata": {},
   "outputs": [],
   "source": [
    "# Use the Pathlib libary to set the path to the CSV\n",
    "vnq_path = Path(\"./Resources/vnq_10_years.csv\")\n",
    "agg_path = Path(\"./Resources/agg_10_years.csv\")"
   ]
  },
  {
   "cell_type": "code",
   "execution_count": 12,
   "id": "455515e1-a414-4da1-bf55-7071c3e349bb",
   "metadata": {},
   "outputs": [
    {
     "data": {
      "text/html": [
       "<div>\n",
       "<style scoped>\n",
       "    .dataframe tbody tr th:only-of-type {\n",
       "        vertical-align: middle;\n",
       "    }\n",
       "\n",
       "    .dataframe tbody tr th {\n",
       "        vertical-align: top;\n",
       "    }\n",
       "\n",
       "    .dataframe thead th {\n",
       "        text-align: right;\n",
       "    }\n",
       "</style>\n",
       "<table border=\"1\" class=\"dataframe\">\n",
       "  <thead>\n",
       "    <tr style=\"text-align: right;\">\n",
       "      <th></th>\n",
       "      <th>Close</th>\n",
       "    </tr>\n",
       "    <tr>\n",
       "      <th>Date</th>\n",
       "      <th></th>\n",
       "    </tr>\n",
       "  </thead>\n",
       "  <tbody>\n",
       "    <tr>\n",
       "      <th>2012-10-31</th>\n",
       "      <td>64.38</td>\n",
       "    </tr>\n",
       "    <tr>\n",
       "      <th>2012-11-01</th>\n",
       "      <td>64.69</td>\n",
       "    </tr>\n",
       "    <tr>\n",
       "      <th>2012-11-02</th>\n",
       "      <td>65.12</td>\n",
       "    </tr>\n",
       "    <tr>\n",
       "      <th>2012-11-05</th>\n",
       "      <td>64.69</td>\n",
       "    </tr>\n",
       "    <tr>\n",
       "      <th>2012-11-06</th>\n",
       "      <td>64.97</td>\n",
       "    </tr>\n",
       "  </tbody>\n",
       "</table>\n",
       "</div>"
      ],
      "text/plain": [
       "            Close\n",
       "Date             \n",
       "2012-10-31  64.38\n",
       "2012-11-01  64.69\n",
       "2012-11-02  65.12\n",
       "2012-11-05  64.69\n",
       "2012-11-06  64.97"
      ]
     },
     "metadata": {},
     "output_type": "display_data"
    },
    {
     "data": {
      "text/html": [
       "<div>\n",
       "<style scoped>\n",
       "    .dataframe tbody tr th:only-of-type {\n",
       "        vertical-align: middle;\n",
       "    }\n",
       "\n",
       "    .dataframe tbody tr th {\n",
       "        vertical-align: top;\n",
       "    }\n",
       "\n",
       "    .dataframe thead th {\n",
       "        text-align: right;\n",
       "    }\n",
       "</style>\n",
       "<table border=\"1\" class=\"dataframe\">\n",
       "  <thead>\n",
       "    <tr style=\"text-align: right;\">\n",
       "      <th></th>\n",
       "      <th>Close</th>\n",
       "    </tr>\n",
       "    <tr>\n",
       "      <th>Date</th>\n",
       "      <th></th>\n",
       "    </tr>\n",
       "  </thead>\n",
       "  <tbody>\n",
       "    <tr>\n",
       "      <th>2012-10-31</th>\n",
       "      <td>112.19</td>\n",
       "    </tr>\n",
       "    <tr>\n",
       "      <th>2012-11-01</th>\n",
       "      <td>111.80</td>\n",
       "    </tr>\n",
       "    <tr>\n",
       "      <th>2012-11-02</th>\n",
       "      <td>111.87</td>\n",
       "    </tr>\n",
       "    <tr>\n",
       "      <th>2012-11-05</th>\n",
       "      <td>112.06</td>\n",
       "    </tr>\n",
       "    <tr>\n",
       "      <th>2012-11-06</th>\n",
       "      <td>111.74</td>\n",
       "    </tr>\n",
       "  </tbody>\n",
       "</table>\n",
       "</div>"
      ],
      "text/plain": [
       "             Close\n",
       "Date              \n",
       "2012-10-31  112.19\n",
       "2012-11-01  111.80\n",
       "2012-11-02  111.87\n",
       "2012-11-05  112.06\n",
       "2012-11-06  111.74"
      ]
     },
     "metadata": {},
     "output_type": "display_data"
    }
   ],
   "source": [
    "# Use the file path to read the CSV into a DataFrame and display a few rows\n",
    "vnq_df=pd.read_csv(vnq_path, index_col=\"Date\", parse_dates=True, infer_datetime_format=True)\n",
    "vnq_df.index=pd.DatetimeIndex(vnq_df.index)\n",
    "agg_df=pd.read_csv(agg_path, index_col=\"Date\", parse_dates=True, infer_datetime_format=True)\n",
    "agg_df.index=pd.DatetimeIndex(agg_df.index)\n",
    "display(vnq_df.head())\n",
    "display(agg_df.head())"
   ]
  },
  {
   "cell_type": "code",
   "execution_count": 13,
   "id": "7ca938b2-ecda-4892-b854-158e01bbaa7b",
   "metadata": {},
   "outputs": [
    {
     "data": {
      "text/plain": [
       "Close    float64\n",
       "dtype: object"
      ]
     },
     "metadata": {},
     "output_type": "display_data"
    },
    {
     "data": {
      "text/plain": [
       "Close    float64\n",
       "dtype: object"
      ]
     },
     "metadata": {},
     "output_type": "display_data"
    }
   ],
   "source": [
    "# Use the `dtypes` attribute to list the column data types\n",
    "display(vnq_df.dtypes)\n",
    "display(agg_df.dtypes)"
   ]
  },
  {
   "cell_type": "markdown",
   "id": "744478b8-b820-4967-8967-50ef6426d2f0",
   "metadata": {},
   "source": [
    "## Data Cleaning"
   ]
  },
  {
   "cell_type": "code",
   "execution_count": 14,
   "id": "f81975ae-1bbf-42ff-ab22-412103832ea6",
   "metadata": {},
   "outputs": [
    {
     "data": {
      "text/plain": [
       "Close    2514\n",
       "dtype: int64"
      ]
     },
     "execution_count": 14,
     "metadata": {},
     "output_type": "execute_result"
    }
   ],
   "source": [
    "# Use the `count` function to view count of non-null values for each column\n",
    "vnq_df.count()"
   ]
  },
  {
   "cell_type": "code",
   "execution_count": 15,
   "id": "a32bbcc8-61cd-46e4-a135-adaf4c14f716",
   "metadata": {},
   "outputs": [
    {
     "data": {
      "text/plain": [
       "Close    2514\n",
       "dtype: int64"
      ]
     },
     "execution_count": 15,
     "metadata": {},
     "output_type": "execute_result"
    }
   ],
   "source": [
    "agg_df.count()"
   ]
  },
  {
   "cell_type": "code",
   "execution_count": 16,
   "id": "a9cf5628-9e41-42f5-8161-b643909b8580",
   "metadata": {},
   "outputs": [
    {
     "data": {
      "text/html": [
       "<div>\n",
       "<style scoped>\n",
       "    .dataframe tbody tr th:only-of-type {\n",
       "        vertical-align: middle;\n",
       "    }\n",
       "\n",
       "    .dataframe tbody tr th {\n",
       "        vertical-align: top;\n",
       "    }\n",
       "\n",
       "    .dataframe thead th {\n",
       "        text-align: right;\n",
       "    }\n",
       "</style>\n",
       "<table border=\"1\" class=\"dataframe\">\n",
       "  <thead>\n",
       "    <tr style=\"text-align: right;\">\n",
       "      <th></th>\n",
       "      <th>Close</th>\n",
       "    </tr>\n",
       "    <tr>\n",
       "      <th>Date</th>\n",
       "      <th></th>\n",
       "    </tr>\n",
       "  </thead>\n",
       "  <tbody>\n",
       "    <tr>\n",
       "      <th>2012-10-31</th>\n",
       "      <td>False</td>\n",
       "    </tr>\n",
       "    <tr>\n",
       "      <th>2012-11-01</th>\n",
       "      <td>False</td>\n",
       "    </tr>\n",
       "    <tr>\n",
       "      <th>2012-11-02</th>\n",
       "      <td>False</td>\n",
       "    </tr>\n",
       "    <tr>\n",
       "      <th>2012-11-05</th>\n",
       "      <td>False</td>\n",
       "    </tr>\n",
       "    <tr>\n",
       "      <th>2012-11-06</th>\n",
       "      <td>False</td>\n",
       "    </tr>\n",
       "    <tr>\n",
       "      <th>...</th>\n",
       "      <td>...</td>\n",
       "    </tr>\n",
       "    <tr>\n",
       "      <th>2022-10-19</th>\n",
       "      <td>False</td>\n",
       "    </tr>\n",
       "    <tr>\n",
       "      <th>2022-10-20</th>\n",
       "      <td>False</td>\n",
       "    </tr>\n",
       "    <tr>\n",
       "      <th>2022-10-21</th>\n",
       "      <td>False</td>\n",
       "    </tr>\n",
       "    <tr>\n",
       "      <th>2022-10-24</th>\n",
       "      <td>False</td>\n",
       "    </tr>\n",
       "    <tr>\n",
       "      <th>2022-10-25</th>\n",
       "      <td>False</td>\n",
       "    </tr>\n",
       "  </tbody>\n",
       "</table>\n",
       "<p>2514 rows × 1 columns</p>\n",
       "</div>"
      ],
      "text/plain": [
       "            Close\n",
       "Date             \n",
       "2012-10-31  False\n",
       "2012-11-01  False\n",
       "2012-11-02  False\n",
       "2012-11-05  False\n",
       "2012-11-06  False\n",
       "...           ...\n",
       "2022-10-19  False\n",
       "2022-10-20  False\n",
       "2022-10-21  False\n",
       "2022-10-24  False\n",
       "2022-10-25  False\n",
       "\n",
       "[2514 rows x 1 columns]"
      ]
     },
     "execution_count": 16,
     "metadata": {},
     "output_type": "execute_result"
    }
   ],
   "source": [
    "# Checking for null\n",
    "vnq_df.isnull()"
   ]
  },
  {
   "cell_type": "code",
   "execution_count": 17,
   "id": "82ef8ada-b878-4ce6-85dd-951808ebc3c6",
   "metadata": {},
   "outputs": [
    {
     "data": {
      "text/html": [
       "<div>\n",
       "<style scoped>\n",
       "    .dataframe tbody tr th:only-of-type {\n",
       "        vertical-align: middle;\n",
       "    }\n",
       "\n",
       "    .dataframe tbody tr th {\n",
       "        vertical-align: top;\n",
       "    }\n",
       "\n",
       "    .dataframe thead th {\n",
       "        text-align: right;\n",
       "    }\n",
       "</style>\n",
       "<table border=\"1\" class=\"dataframe\">\n",
       "  <thead>\n",
       "    <tr style=\"text-align: right;\">\n",
       "      <th></th>\n",
       "      <th>Close</th>\n",
       "    </tr>\n",
       "    <tr>\n",
       "      <th>Date</th>\n",
       "      <th></th>\n",
       "    </tr>\n",
       "  </thead>\n",
       "  <tbody>\n",
       "    <tr>\n",
       "      <th>2012-10-31</th>\n",
       "      <td>False</td>\n",
       "    </tr>\n",
       "    <tr>\n",
       "      <th>2012-11-01</th>\n",
       "      <td>False</td>\n",
       "    </tr>\n",
       "    <tr>\n",
       "      <th>2012-11-02</th>\n",
       "      <td>False</td>\n",
       "    </tr>\n",
       "    <tr>\n",
       "      <th>2012-11-05</th>\n",
       "      <td>False</td>\n",
       "    </tr>\n",
       "    <tr>\n",
       "      <th>2012-11-06</th>\n",
       "      <td>False</td>\n",
       "    </tr>\n",
       "    <tr>\n",
       "      <th>...</th>\n",
       "      <td>...</td>\n",
       "    </tr>\n",
       "    <tr>\n",
       "      <th>2022-10-19</th>\n",
       "      <td>False</td>\n",
       "    </tr>\n",
       "    <tr>\n",
       "      <th>2022-10-20</th>\n",
       "      <td>False</td>\n",
       "    </tr>\n",
       "    <tr>\n",
       "      <th>2022-10-21</th>\n",
       "      <td>False</td>\n",
       "    </tr>\n",
       "    <tr>\n",
       "      <th>2022-10-24</th>\n",
       "      <td>False</td>\n",
       "    </tr>\n",
       "    <tr>\n",
       "      <th>2022-10-25</th>\n",
       "      <td>False</td>\n",
       "    </tr>\n",
       "  </tbody>\n",
       "</table>\n",
       "<p>2514 rows × 1 columns</p>\n",
       "</div>"
      ],
      "text/plain": [
       "            Close\n",
       "Date             \n",
       "2012-10-31  False\n",
       "2012-11-01  False\n",
       "2012-11-02  False\n",
       "2012-11-05  False\n",
       "2012-11-06  False\n",
       "...           ...\n",
       "2022-10-19  False\n",
       "2022-10-20  False\n",
       "2022-10-21  False\n",
       "2022-10-24  False\n",
       "2022-10-25  False\n",
       "\n",
       "[2514 rows x 1 columns]"
      ]
     },
     "execution_count": 17,
     "metadata": {},
     "output_type": "execute_result"
    }
   ],
   "source": [
    "agg_df.isnull()"
   ]
  },
  {
   "cell_type": "code",
   "execution_count": 18,
   "id": "d1b9c903-c624-4890-a79d-2b9cbf2634a4",
   "metadata": {},
   "outputs": [
    {
     "data": {
      "text/plain": [
       "Close    0\n",
       "dtype: int64"
      ]
     },
     "execution_count": 18,
     "metadata": {},
     "output_type": "execute_result"
    }
   ],
   "source": [
    "# Determining number of nulls\n",
    "vnq_df.isnull().sum()"
   ]
  },
  {
   "cell_type": "code",
   "execution_count": 19,
   "id": "584416c1-7e8c-4419-b669-e48ff87a57ff",
   "metadata": {},
   "outputs": [
    {
     "data": {
      "text/plain": [
       "Close    0\n",
       "dtype: int64"
      ]
     },
     "execution_count": 19,
     "metadata": {},
     "output_type": "execute_result"
    }
   ],
   "source": [
    "agg_df.isnull().sum()"
   ]
  },
  {
   "cell_type": "markdown",
   "id": "71f6fd7b-3d5f-4af7-a7b5-b2e8c7cd21e1",
   "metadata": {},
   "source": [
    "We do not need to drop nulls, as we have no nulls in our data when we checked in the cells above."
   ]
  },
  {
   "cell_type": "code",
   "execution_count": 20,
   "id": "d8e32686-5241-432c-b4dc-233b2eb0c7ff",
   "metadata": {},
   "outputs": [
    {
     "data": {
      "text/plain": [
       "Date\n",
       "2012-10-31    False\n",
       "2012-11-01    False\n",
       "2012-11-02    False\n",
       "2012-11-05     True\n",
       "2012-11-06    False\n",
       "              ...  \n",
       "2022-10-19     True\n",
       "2022-10-20    False\n",
       "2022-10-21     True\n",
       "2022-10-24    False\n",
       "2022-10-25     True\n",
       "Length: 2514, dtype: bool"
      ]
     },
     "execution_count": 20,
     "metadata": {},
     "output_type": "execute_result"
    }
   ],
   "source": [
    "# Use the `duplicated` function to determine the existance of duplicate rows: True or False\n",
    "vnq_df.duplicated()"
   ]
  },
  {
   "cell_type": "code",
   "execution_count": 21,
   "id": "3b631301-d4c1-4b4e-bc87-f935b65738c6",
   "metadata": {},
   "outputs": [
    {
     "data": {
      "text/plain": [
       "Date\n",
       "2012-10-31    False\n",
       "2012-11-01    False\n",
       "2012-11-02    False\n",
       "2012-11-05    False\n",
       "2012-11-06    False\n",
       "              ...  \n",
       "2022-10-19    False\n",
       "2022-10-20    False\n",
       "2022-10-21    False\n",
       "2022-10-24    False\n",
       "2022-10-25    False\n",
       "Length: 2514, dtype: bool"
      ]
     },
     "execution_count": 21,
     "metadata": {},
     "output_type": "execute_result"
    }
   ],
   "source": [
    "agg_df.duplicated()"
   ]
  },
  {
   "cell_type": "markdown",
   "id": "44f36f22-fc59-4364-ad6b-6b63f158e950",
   "metadata": {},
   "source": [
    "Even though it shows that there are deplicated data in the file, We decided against dropping the duplicates, because the stocks can have the same closing price on different days. Also, we shouldn't have duplicated date, as indices should be unique."
   ]
  },
  {
   "cell_type": "code",
   "execution_count": 31,
   "id": "43811a40-cd97-4bce-b729-20740eb5f1d2",
   "metadata": {},
   "outputs": [],
   "source": [
    "# Save modified DataFrame to the Resources folder. Use the `index` parameter set to `False` to exclude saving the index.\n",
    "vnq_df.to_csv(\"./Resources/cleaned_vnq_data.csv\", index=True)\n",
    "agg_df.to_csv(\"./Resources/cleaned_agg_data.csv\", index=True)"
   ]
  },
  {
   "cell_type": "markdown",
   "id": "759e6294-09de-49c2-a93b-86819cf92b81",
   "metadata": {},
   "source": [
    "## Concatenating Dataframes"
   ]
  },
  {
   "cell_type": "code",
   "execution_count": 24,
   "id": "ecef4dd4-3ef3-4e35-b7d6-b7812c07e08f",
   "metadata": {},
   "outputs": [
    {
     "data": {
      "text/html": [
       "<div>\n",
       "<style scoped>\n",
       "    .dataframe tbody tr th:only-of-type {\n",
       "        vertical-align: middle;\n",
       "    }\n",
       "\n",
       "    .dataframe tbody tr th {\n",
       "        vertical-align: top;\n",
       "    }\n",
       "\n",
       "    .dataframe thead th {\n",
       "        text-align: right;\n",
       "    }\n",
       "</style>\n",
       "<table border=\"1\" class=\"dataframe\">\n",
       "  <thead>\n",
       "    <tr style=\"text-align: right;\">\n",
       "      <th></th>\n",
       "      <th>Close</th>\n",
       "      <th>Close</th>\n",
       "    </tr>\n",
       "    <tr>\n",
       "      <th>Date</th>\n",
       "      <th></th>\n",
       "      <th></th>\n",
       "    </tr>\n",
       "  </thead>\n",
       "  <tbody>\n",
       "    <tr>\n",
       "      <th>2012-10-31</th>\n",
       "      <td>112.19</td>\n",
       "      <td>64.38</td>\n",
       "    </tr>\n",
       "    <tr>\n",
       "      <th>2012-11-01</th>\n",
       "      <td>111.80</td>\n",
       "      <td>64.69</td>\n",
       "    </tr>\n",
       "    <tr>\n",
       "      <th>2012-11-02</th>\n",
       "      <td>111.87</td>\n",
       "      <td>65.12</td>\n",
       "    </tr>\n",
       "    <tr>\n",
       "      <th>2012-11-05</th>\n",
       "      <td>112.06</td>\n",
       "      <td>64.69</td>\n",
       "    </tr>\n",
       "    <tr>\n",
       "      <th>2012-11-06</th>\n",
       "      <td>111.74</td>\n",
       "      <td>64.97</td>\n",
       "    </tr>\n",
       "  </tbody>\n",
       "</table>\n",
       "</div>"
      ],
      "text/plain": [
       "             Close  Close\n",
       "Date                     \n",
       "2012-10-31  112.19  64.38\n",
       "2012-11-01  111.80  64.69\n",
       "2012-11-02  111.87  65.12\n",
       "2012-11-05  112.06  64.69\n",
       "2012-11-06  111.74  64.97"
      ]
     },
     "execution_count": 24,
     "metadata": {},
     "output_type": "execute_result"
    }
   ],
   "source": [
    "# Join VNQ and AGG full datasets by axis\n",
    "hedge_df=pd.concat([agg_df,vnq_df], axis=\"columns\", join=\"inner\")\n",
    "hedge_df.head()"
   ]
  },
  {
   "cell_type": "code",
   "execution_count": 30,
   "id": "c4f3d5a7-c45b-41f1-a852-c4cf9acef7f5",
   "metadata": {},
   "outputs": [
    {
     "data": {
      "text/html": [
       "<div>\n",
       "<style scoped>\n",
       "    .dataframe tbody tr th:only-of-type {\n",
       "        vertical-align: middle;\n",
       "    }\n",
       "\n",
       "    .dataframe tbody tr th {\n",
       "        vertical-align: top;\n",
       "    }\n",
       "\n",
       "    .dataframe thead th {\n",
       "        text-align: right;\n",
       "    }\n",
       "</style>\n",
       "<table border=\"1\" class=\"dataframe\">\n",
       "  <thead>\n",
       "    <tr style=\"text-align: right;\">\n",
       "      <th></th>\n",
       "      <th>AGG</th>\n",
       "      <th>VNQ</th>\n",
       "    </tr>\n",
       "    <tr>\n",
       "      <th>Date</th>\n",
       "      <th></th>\n",
       "      <th></th>\n",
       "    </tr>\n",
       "  </thead>\n",
       "  <tbody>\n",
       "    <tr>\n",
       "      <th>2012-10-31</th>\n",
       "      <td>112.19</td>\n",
       "      <td>64.38</td>\n",
       "    </tr>\n",
       "    <tr>\n",
       "      <th>2012-11-01</th>\n",
       "      <td>111.80</td>\n",
       "      <td>64.69</td>\n",
       "    </tr>\n",
       "    <tr>\n",
       "      <th>2012-11-02</th>\n",
       "      <td>111.87</td>\n",
       "      <td>65.12</td>\n",
       "    </tr>\n",
       "    <tr>\n",
       "      <th>2012-11-05</th>\n",
       "      <td>112.06</td>\n",
       "      <td>64.69</td>\n",
       "    </tr>\n",
       "    <tr>\n",
       "      <th>2012-11-06</th>\n",
       "      <td>111.74</td>\n",
       "      <td>64.97</td>\n",
       "    </tr>\n",
       "  </tbody>\n",
       "</table>\n",
       "</div>"
      ],
      "text/plain": [
       "               AGG    VNQ\n",
       "Date                     \n",
       "2012-10-31  112.19  64.38\n",
       "2012-11-01  111.80  64.69\n",
       "2012-11-02  111.87  65.12\n",
       "2012-11-05  112.06  64.69\n",
       "2012-11-06  111.74  64.97"
      ]
     },
     "metadata": {},
     "output_type": "display_data"
    },
    {
     "data": {
      "text/html": [
       "<div>\n",
       "<style scoped>\n",
       "    .dataframe tbody tr th:only-of-type {\n",
       "        vertical-align: middle;\n",
       "    }\n",
       "\n",
       "    .dataframe tbody tr th {\n",
       "        vertical-align: top;\n",
       "    }\n",
       "\n",
       "    .dataframe thead th {\n",
       "        text-align: right;\n",
       "    }\n",
       "</style>\n",
       "<table border=\"1\" class=\"dataframe\">\n",
       "  <thead>\n",
       "    <tr style=\"text-align: right;\">\n",
       "      <th></th>\n",
       "      <th>AGG</th>\n",
       "      <th>VNQ</th>\n",
       "    </tr>\n",
       "    <tr>\n",
       "      <th>Date</th>\n",
       "      <th></th>\n",
       "      <th></th>\n",
       "    </tr>\n",
       "  </thead>\n",
       "  <tbody>\n",
       "    <tr>\n",
       "      <th>2022-10-19</th>\n",
       "      <td>94.20</td>\n",
       "      <td>77.88</td>\n",
       "    </tr>\n",
       "    <tr>\n",
       "      <th>2022-10-20</th>\n",
       "      <td>93.63</td>\n",
       "      <td>77.54</td>\n",
       "    </tr>\n",
       "    <tr>\n",
       "      <th>2022-10-21</th>\n",
       "      <td>93.77</td>\n",
       "      <td>78.15</td>\n",
       "    </tr>\n",
       "    <tr>\n",
       "      <th>2022-10-24</th>\n",
       "      <td>93.64</td>\n",
       "      <td>78.14</td>\n",
       "    </tr>\n",
       "    <tr>\n",
       "      <th>2022-10-25</th>\n",
       "      <td>94.56</td>\n",
       "      <td>81.21</td>\n",
       "    </tr>\n",
       "  </tbody>\n",
       "</table>\n",
       "</div>"
      ],
      "text/plain": [
       "              AGG    VNQ\n",
       "Date                    \n",
       "2022-10-19  94.20  77.88\n",
       "2022-10-20  93.63  77.54\n",
       "2022-10-21  93.77  78.15\n",
       "2022-10-24  93.64  78.14\n",
       "2022-10-25  94.56  81.21"
      ]
     },
     "metadata": {},
     "output_type": "display_data"
    }
   ],
   "source": [
    "#Rename the columns to AGG and VNQ \n",
    "hedge_df.columns=[\"AGG\", \"VNQ\"]\n",
    "display(hedge_df.head())\n",
    "display(hedge_df.tail())"
   ]
  },
  {
   "cell_type": "code",
   "execution_count": 28,
   "id": "bc5f0ae2-67bd-4616-bc1f-4a566aee0f16",
   "metadata": {},
   "outputs": [],
   "source": [
    "hedge_df.to_csv(\"./Resources/cleaned_hedge_data.csv\", index=True)"
   ]
  },
  {
   "cell_type": "code",
   "execution_count": 36,
   "id": "75a404ea-b790-4d1f-b16c-eb2b160cf51a",
   "metadata": {},
   "outputs": [
    {
     "data": {
      "text/html": [
       "<div>\n",
       "<style scoped>\n",
       "    .dataframe tbody tr th:only-of-type {\n",
       "        vertical-align: middle;\n",
       "    }\n",
       "\n",
       "    .dataframe tbody tr th {\n",
       "        vertical-align: top;\n",
       "    }\n",
       "\n",
       "    .dataframe thead th {\n",
       "        text-align: right;\n",
       "    }\n",
       "</style>\n",
       "<table border=\"1\" class=\"dataframe\">\n",
       "  <thead>\n",
       "    <tr style=\"text-align: right;\">\n",
       "      <th></th>\n",
       "      <th>AGG</th>\n",
       "      <th>VNQ</th>\n",
       "    </tr>\n",
       "    <tr>\n",
       "      <th>Date</th>\n",
       "      <th></th>\n",
       "      <th></th>\n",
       "    </tr>\n",
       "  </thead>\n",
       "  <tbody>\n",
       "    <tr>\n",
       "      <th>2012-11-01</th>\n",
       "      <td>-0.003476</td>\n",
       "      <td>0.004815</td>\n",
       "    </tr>\n",
       "    <tr>\n",
       "      <th>2012-11-02</th>\n",
       "      <td>0.000626</td>\n",
       "      <td>0.006647</td>\n",
       "    </tr>\n",
       "    <tr>\n",
       "      <th>2012-11-05</th>\n",
       "      <td>0.001698</td>\n",
       "      <td>-0.006603</td>\n",
       "    </tr>\n",
       "    <tr>\n",
       "      <th>2012-11-06</th>\n",
       "      <td>-0.002856</td>\n",
       "      <td>0.004328</td>\n",
       "    </tr>\n",
       "    <tr>\n",
       "      <th>2012-11-07</th>\n",
       "      <td>0.002327</td>\n",
       "      <td>-0.004464</td>\n",
       "    </tr>\n",
       "  </tbody>\n",
       "</table>\n",
       "</div>"
      ],
      "text/plain": [
       "                 AGG       VNQ\n",
       "Date                          \n",
       "2012-11-01 -0.003476  0.004815\n",
       "2012-11-02  0.000626  0.006647\n",
       "2012-11-05  0.001698 -0.006603\n",
       "2012-11-06 -0.002856  0.004328\n",
       "2012-11-07  0.002327 -0.004464"
      ]
     },
     "execution_count": 36,
     "metadata": {},
     "output_type": "execute_result"
    }
   ],
   "source": [
    "#Convert the daily closing price data into daily return data\n",
    "hedge_daily_return_df = hedge_df.pct_change().dropna()\n",
    "hedge_daily_return_df.head()"
   ]
  },
  {
   "cell_type": "markdown",
   "id": "78b1efeb-a923-4f90-b582-4104bc1f08c0",
   "metadata": {},
   "source": [
    "## Data Analysis"
   ]
  },
  {
   "cell_type": "code",
   "execution_count": null,
   "id": "8e050ea3-d37b-46a4-9d25-d4b3f1038abc",
   "metadata": {},
   "outputs": [],
   "source": [
    "#Import one new library: Plotly.express, SciPy, Ggplot, Altair"
   ]
  },
  {
   "cell_type": "code",
   "execution_count": null,
   "id": "472a70de-7555-4612-b7a6-b80a8f308edc",
   "metadata": {},
   "outputs": [],
   "source": [
    "#Price increase year-on-year: Ven"
   ]
  },
  {
   "cell_type": "code",
   "execution_count": 38,
   "id": "cda63b7e-5d07-4c12-b355-50bfe67e080f",
   "metadata": {},
   "outputs": [
    {
     "data": {
      "text/plain": [
       "AGG    27740.041718\n",
       "VNQ    20957.228162\n",
       "dtype: float64"
      ]
     },
     "execution_count": 38,
     "metadata": {},
     "output_type": "execute_result"
    }
   ],
   "source": [
    "# Mean (Daily and Annualized): \n",
    "hedge_df.mean() * 252"
   ]
  },
  {
   "cell_type": "code",
   "execution_count": null,
   "id": "ac69cb39-81e9-4643-b82a-ef116d847f23",
   "metadata": {},
   "outputs": [],
   "source": [
    "# Standard deviation (volatility)(Daily and Annualized): Maxine"
   ]
  },
  {
   "cell_type": "code",
   "execution_count": null,
   "id": "3f092403-d612-40dd-883c-80d75725e954",
   "metadata": {},
   "outputs": [],
   "source": [
    "# 200 days Moving Average: Pauline"
   ]
  },
  {
   "cell_type": "code",
   "execution_count": null,
   "id": "a71b9b50-8689-4f57-9d14-473c518a53a4",
   "metadata": {},
   "outputs": [],
   "source": [
    "# Beta: Sam"
   ]
  },
  {
   "cell_type": "code",
   "execution_count": null,
   "id": "d6250adb-f245-4908-833b-1212bdf3d961",
   "metadata": {},
   "outputs": [],
   "source": [
    "# Sharpe ratio: Sam"
   ]
  },
  {
   "cell_type": "code",
   "execution_count": null,
   "id": "532e42ea-fbd9-4593-9104-fe9fca1bf2d7",
   "metadata": {},
   "outputs": [],
   "source": [
    "# Monte Carlo price projection: Pauline"
   ]
  },
  {
   "cell_type": "code",
   "execution_count": 26,
   "id": "6c921ab5-bdab-43e5-acec-f329fd89e732",
   "metadata": {},
   "outputs": [],
   "source": [
    "# Hvplot: 6-8 plots: MA, corrention, bar chart, scatter plot, view \"info is beautiful\""
   ]
  },
  {
   "cell_type": "code",
   "execution_count": null,
   "id": "44df67d9-c581-4c0b-9c9f-a0edc874c7fc",
   "metadata": {},
   "outputs": [],
   "source": []
  },
  {
   "cell_type": "code",
   "execution_count": null,
   "id": "7a9eb1f1-5f1a-4749-a1db-bdfd672b3c7e",
   "metadata": {},
   "outputs": [],
   "source": []
  },
  {
   "cell_type": "code",
   "execution_count": null,
   "id": "d92f85d3-96b0-489c-9fcf-27e4586557b3",
   "metadata": {},
   "outputs": [],
   "source": []
  },
  {
   "cell_type": "code",
   "execution_count": null,
   "id": "159c01be-e334-4b07-a5bd-4a7cc47cb931",
   "metadata": {},
   "outputs": [],
   "source": []
  },
  {
   "cell_type": "code",
   "execution_count": null,
   "id": "d7ffddc6-abe0-4c34-a8e5-6d8c06ab25b3",
   "metadata": {},
   "outputs": [],
   "source": []
  },
  {
   "cell_type": "code",
   "execution_count": null,
   "id": "483d6d3b-7477-4d37-bf6a-21d65b49eb99",
   "metadata": {},
   "outputs": [],
   "source": []
  },
  {
   "cell_type": "code",
   "execution_count": null,
   "id": "b1f3c9b7-6161-4921-a26c-d4b3e35ad6a4",
   "metadata": {},
   "outputs": [],
   "source": []
  }
 ],
 "metadata": {
  "kernelspec": {
   "display_name": "Python 3 (ipykernel)",
   "language": "python",
   "name": "python3"
  },
  "language_info": {
   "codemirror_mode": {
    "name": "ipython",
    "version": 3
   },
   "file_extension": ".py",
   "mimetype": "text/x-python",
   "name": "python",
   "nbconvert_exporter": "python",
   "pygments_lexer": "ipython3",
   "version": "3.9.12"
  }
 },
 "nbformat": 4,
 "nbformat_minor": 5
}
